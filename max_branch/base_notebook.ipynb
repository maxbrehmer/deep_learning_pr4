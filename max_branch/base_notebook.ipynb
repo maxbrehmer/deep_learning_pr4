{
 "cells": [
  {
   "cell_type": "markdown",
   "metadata": {},
   "source": [
    "# Project 4\n",
    "\n",
    "### Max Brehmer & Joakim Svendsen"
   ]
  },
  {
   "cell_type": "markdown",
   "metadata": {},
   "source": [
    "For this project we chose to work with the `ARCENE` dataset from the UCI Machine Learning Repository. It was donated on $2/28/2008$.\n",
    "\n",
    "ARCENE's task is to distinguish cancer versus normal patterns from mass-spectrometric data. This is a two-class classification problem with continuous input variables. This dataset is one of 5 datasets of the NIPS 2003 feature selection challenge.\n",
    "\n",
    "What characterizes this dataset is that it has a large number of features ($10 000$) compared to the number of instances ($900$), of which $3000$ of the features are probes which have no predictive power. \n",
    "\n",
    "Training, validation and test sets are split into the following structure:\n",
    "\n",
    "ARCENE          -- Positive ex. -- Negative ex. -- Total \\\n",
    "Training set    -- 44           -- 56           -- 100 \\\n",
    "Validation set  -- 44           -- 56           -- 100 \\\n",
    "Test set        -- 310          -- 390          -- 700 \\\n",
    "All             -- 398          -- 502          -- 900"
   ]
  },
  {
   "cell_type": "code",
   "execution_count": 3,
   "metadata": {},
   "outputs": [],
   "source": [
    "import pandas as pd\n",
    "\n",
    "train_data = pd.read_csv('../arcene/ARCENE/arcene_train.data', sep=' ', header=None)\n",
    "train_labels = pd.read_csv('../arcene/ARCENE/arcene_train.labels', header=None)\n",
    "test_data = pd.read_csv('../arcene/ARCENE/arcene_test.data', sep=' ', header=None)\n",
    "valid_data = pd.read_csv('../arcene/ARCENE/arcene_valid.data', sep=' ', header=None)\n",
    "valid_labels = pd.read_csv('../arcene/arcene_valid.labels', header=None)"
   ]
  },
  {
   "cell_type": "markdown",
   "metadata": {},
   "source": [
    "The goal of this project is to perform a two-way classification of the ARCENE dataset into cancerous and non-cancerous cases. \n",
    "We plan on using a ... NN approach since ..."
   ]
  },
  {
   "cell_type": "code",
   "execution_count": null,
   "metadata": {},
   "outputs": [],
   "source": []
  }
 ],
 "metadata": {
  "kernelspec": {
   "display_name": ".venv",
   "language": "python",
   "name": "python3"
  },
  "language_info": {
   "codemirror_mode": {
    "name": "ipython",
    "version": 3
   },
   "file_extension": ".py",
   "mimetype": "text/x-python",
   "name": "python",
   "nbconvert_exporter": "python",
   "pygments_lexer": "ipython3",
   "version": "3.12.1"
  }
 },
 "nbformat": 4,
 "nbformat_minor": 2
}
